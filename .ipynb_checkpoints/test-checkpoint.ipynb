{
 "cells": [
  {
   "cell_type": "code",
   "execution_count": 1,
   "id": "671977d8-c438-4322-9857-a31d5d2dbc76",
   "metadata": {},
   "outputs": [],
   "source": [
    "import cv2 as cv\n",
    "import numpy as np\n",
    "import os\n",
    "import pandas as pd\n",
    "from numpy import linalg as LA\n",
    "import csv\n"
   ]
  },
  {
   "cell_type": "markdown",
   "id": "ccbedb45-37d7-4cc7-99c8-5043d8bd815e",
   "metadata": {},
   "source": [
    "**Hàm trích chọn đặc trưng màu sắc của ảnh**"
   ]
  },
  {
   "cell_type": "code",
   "execution_count": 2,
   "id": "26c41fb2-144d-48f7-828e-f8c74dedc0e0",
   "metadata": {},
   "outputs": [],
   "source": [
    "def histogram(image, mask=None):\n",
    "    image = cv.cvtColor(image, cv.COLOR_BGR2HSV)\n",
    "    hist = cv.calcHist([image], [0,1,2], None, [8, 12, 3], [0, 256, 0, 256, 0, 256])\n",
    "    cv.normalize(hist, hist)\n",
    "    return hist.flatten()"
   ]
  },
  {
   "cell_type": "markdown",
   "id": "b73d5c89-87f3-4672-90c0-50f4e60f22c6",
   "metadata": {},
   "source": [
    "**Hàm trích chọn đặc trưng HOG của ảnh**"
   ]
  },
  {
   "cell_type": "code",
   "execution_count": 3,
   "id": "f9fdcc5b-29ba-4861-9438-5e0758a2e2cd",
   "metadata": {},
   "outputs": [],
   "source": [
    "def hog(img_gray, cell_size=8, block_size=2, bins=9):\n",
    "    img = img_gray\n",
    "    h, w = img.shape # 128, 64\n",
    "    \n",
    "    # gradient\n",
    "    xkernel = np.array([[-1, 0, 1]])\n",
    "    ykernel = np.array([[-1], [0], [1]])\n",
    "    dx = cv.filter2D(img, cv.CV_32F, xkernel)\n",
    "    dy = cv.filter2D(img, cv.CV_32F, ykernel)\n",
    "    \n",
    "    # histogram\n",
    "    magnitude = np.sqrt(np.square(dx) + np.square(dy))\n",
    "    orientation = np.arctan(np.divide(dy, dx+0.00001)) # radian\n",
    "    orientation = np.degrees(orientation) # -90 -> 90\n",
    "    orientation += 90 # 0 -> 180\n",
    "    \n",
    "    num_cell_x = w // cell_size # 8\n",
    "    num_cell_y = h // cell_size # 16\n",
    "    hist_tensor = np.zeros([num_cell_y, num_cell_x, bins]) # 16 x 8 x 9\n",
    "    for cx in range(num_cell_x):\n",
    "        for cy in range(num_cell_y):\n",
    "            ori = orientation[cy*cell_size:cy*cell_size+cell_size, cx*cell_size:cx*cell_size+cell_size]\n",
    "            mag = magnitude[cy*cell_size:cy*cell_size+cell_size, cx*cell_size:cx*cell_size+cell_size]\n",
    "            # https://docs.scipy.org/doc/numpy/reference/generated/numpy.histogram.html\n",
    "            hist, _ = np.histogram(ori, bins=bins, range=(0, 180), weights=mag) # 1-D vector, 9 elements\n",
    "            hist_tensor[cy, cx, :] = hist\n",
    "        pass\n",
    "    pass\n",
    "    \n",
    "    # normalization\n",
    "    redundant_cell = block_size-1\n",
    "    feature_tensor = np.zeros([num_cell_y-redundant_cell, num_cell_x-redundant_cell, block_size*block_size*bins])\n",
    "    for bx in range(num_cell_x-redundant_cell): # 7\n",
    "        for by in range(num_cell_y-redundant_cell): # 15\n",
    "            by_from = by\n",
    "            by_to = by+block_size\n",
    "            bx_from = bx\n",
    "            bx_to = bx+block_size\n",
    "            v = hist_tensor[by_from:by_to, bx_from:bx_to, :].flatten() # to 1-D array (vector)\n",
    "            feature_tensor[by, bx, :] = v / LA.norm(v, 2)\n",
    "            # avoid NaN:\n",
    "            if np.isnan(feature_tensor[by, bx, :]).any(): # avoid NaN (zero division)\n",
    "                feature_tensor[by, bx, :] = v\n",
    "    \n",
    "    return feature_tensor.flatten() # 3780 features"
   ]
  },
  {
   "cell_type": "markdown",
   "id": "247d3e11-91ba-421a-ac68-4d068da61b14",
   "metadata": {},
   "source": [
    "**Hàm miêu cả đặc trưng mà sắc cho ảnh**"
   ]
  },
  {
   "cell_type": "code",
   "execution_count": 4,
   "id": "8c3db021-a07f-4dcf-be44-340d9cfdedc5",
   "metadata": {},
   "outputs": [],
   "source": [
    "def describe_histogram(image):\n",
    "        features = []\n",
    "\n",
    "        img = cv.cvtColor(image, cv.COLOR_BGR2HSV)\n",
    "\n",
    "        (h, w) = img.shape[:2]\n",
    "        (cX, cY) = (int(w * 0.5), int(h * 0.5))\n",
    "        segments = [(0, cX, 0, cY), (cX, w, 0, cY), (cX, w, cY, h),\n",
    "                    (0, cX, cY, h)]\n",
    "\n",
    "        (axesX, axesY) = (int(w * 0.75) // 2, int(h * 0.75) // 2)\n",
    "        ellipMask = np.zeros(img.shape[:2], dtype=\"uint8\")\n",
    "        cv.ellipse(ellipMask, (cX, cY), (axesX, axesY), 0, 0, 360, 255, -1)\n",
    "        for (startX, endX, startY, endY) in segments:\n",
    "\n",
    "            cornerMask = np.zeros(img.shape[:2], dtype=\"uint8\")\n",
    "            cv.rectangle(cornerMask, (startX, startY), (endX, endY), 255, -1)\n",
    "            cornerMask = cv.subtract(cornerMask, ellipMask)\n",
    "\n",
    "            hist = histogram(img, cornerMask)\n",
    "            features.extend(hist)\n",
    "\n",
    "        hist = histogram(img, ellipMask)\n",
    "        features.extend(hist)\n",
    "\n",
    "        return features"
   ]
  },
  {
   "cell_type": "markdown",
   "id": "8e93a718-df7e-4473-a3a8-096d202cbbc1",
   "metadata": {},
   "source": [
    "**Hàm miêu tả đặc trưng HOG cho ảnh**"
   ]
  },
  {
   "cell_type": "code",
   "execution_count": 5,
   "id": "17bcf3ec-5efe-488c-8d38-550c4b57ff7e",
   "metadata": {},
   "outputs": [],
   "source": [
    "def describeImage(image):\n",
    "    image = cv.resize(image, dsize=(64, 128))\n",
    "\n",
    "    hog_f = hog(image)\n",
    "    \n",
    "    features = np.hstack([hog_f])\n",
    "    return features"
   ]
  },
  {
   "cell_type": "markdown",
   "id": "07afee7b-bb5b-423f-b5a7-272951aa3930",
   "metadata": {},
   "source": [
    "**Hàm tìm kiếm ảnh dựa trên màu sắc**"
   ]
  },
  {
   "cell_type": "code",
   "execution_count": 6,
   "id": "682e3742-cc26-4d4d-ab14-a48638ace7d8",
   "metadata": {},
   "outputs": [],
   "source": [
    "def search_by_color(queryFeatures, path, limit=11):\n",
    "        results = {}\n",
    "        with open(\"color.csv\") as f:\n",
    "\n",
    "            reader = csv.reader(f)\n",
    "            i = 0\n",
    "            for row in reader:                \n",
    "                if i > 0:\n",
    "                    if row[0] == path:\n",
    "                        features2 = [float(value) for value in row[2: ]]\n",
    "                        d = chi2_distance(queryFeatures, features2)\n",
    "                        results[row[1]] = d\n",
    "                i+=1\n",
    "            f.close()\n",
    "\n",
    "        results = sorted([(v, k) for (k, v) in results.items()])\n",
    "\n",
    "        return results[1:limit]"
   ]
  },
  {
   "cell_type": "markdown",
   "id": "13e0976d-a8c7-4bcb-8e20-b6b7b18c1481",
   "metadata": {},
   "source": [
    "**Hàm tính khoảng cách dữ liệu màu sắc giữa ảnh truy vấn và ảnh trong CSDL**"
   ]
  },
  {
   "cell_type": "code",
   "execution_count": 7,
   "id": "c3dea8dc-277e-485d-89f9-d486f1e3994f",
   "metadata": {},
   "outputs": [],
   "source": [
    "def chi2_distance(histA, histB, esps=1e-10):\n",
    "        d = 0.5 * np.sum([((a - b) ** 2 / (a + b + esps)) for (a, b) in zip(histA, histB)])\n",
    "        return d"
   ]
  },
  {
   "cell_type": "markdown",
   "id": "0b0d4b4c-f8ca-4174-a926-8ed0216c88ba",
   "metadata": {},
   "source": [
    "**Chương trình chính**"
   ]
  },
  {
   "cell_type": "code",
   "execution_count": 8,
   "id": "ee932940-df01-46a6-91e8-573d83d27449",
   "metadata": {
    "tags": []
   },
   "outputs": [
    {
     "name": "stdout",
     "output_type": "stream",
     "text": [
      ".ipynb_checkpoints, accordion, "
     ]
    },
    {
     "name": "stderr",
     "output_type": "stream",
     "text": [
      "C:\\Users\\CINTER~1\\AppData\\Local\\Temp/ipykernel_13408/1941289294.py:40: RuntimeWarning: invalid value encountered in true_divide\n",
      "  feature_tensor[by, bx, :] = v / LA.norm(v, 2)\n"
     ]
    },
    {
     "name": "stdout",
     "output_type": "stream",
     "text": [
      "airplanes, anchor, ant, barrel, bass, beaver, binocular, bonsai, brain, brontosaurus, buddha, butterfly, camera, cannon, car_side, ceiling_fan, cellphone, chair, chandelier, cougar_body, cougar_face, crab, crayfish, crocodile, crocodile_head, cup, dalmatian, dollar_bill, dolphin, dragonfly, electric_guitar, elephant, emu, euphonium, ewer, Faces, Faces_easy, ferry, flamingo, flamingo_head, garfield, gerenuk, gramophone, grand_piano, hawksbill, headphone, hedgehog, helicopter, ibis, inline_skate, joshua_tree, kangaroo, ketch, lamp, laptop, Leopards, llama, lobster, lotus, mandolin, mayfly, menorah, metronome, minaret, Motorbikes, nautilus, octopus, okapi, pagoda, panda, pigeon, pizza, platypus, pyramid, revolver, rhino, rooster, saxophone, schooner, scissors, scorpion, sea_horse, snoopy, soccer_ball, stapler, starfish, stegosaurus, stop_sign, strawberry, sunflower, tick, trilobite, umbrella, watch, water_lilly, wheelchair, wild_cat, windsor_chair, wrench, yin_yang, "
     ]
    }
   ],
   "source": [
    "output_features= open('features.csv', \"w\")\n",
    "output_colors = open('color.csv', 'w')\n",
    "\n",
    "for label in os.listdir(\"101_ObjectCategories\"):\n",
    "\n",
    "    print(label, end=\", \")\n",
    "\n",
    "    for imageFile in os.listdir(\"101_ObjectCategories/\" + label):\n",
    "        if(imageFile.find('.jpg') != -1): \n",
    "            image = cv.imread(\"101_ObjectCategories/\" + label + \"/\" + imageFile, cv.IMREAD_GRAYSCALE)\n",
    "            image_ = cv.imread(\"101_ObjectCategories/\" + label + \"/\" + imageFile)\n",
    "\n",
    "            imageID = label + \"_\" + imageFile.strip(\".jpg\")\n",
    "            \n",
    "            features = describeImage(image)\n",
    "            colors = describe_histogram(image_)\n",
    "            \n",
    "            features_ = [str(value) for value in features]\n",
    "            colors_ = [str(value) for value in colors]\n",
    "            \n",
    "            output_features.write(\"%s, %s, %s\\n\" % (label, imageID,  \",\".join(features_)))\n",
    "            output_colors.write(\"%s, %s, %s\\n\" % (label, imageID,  \",\".join(colors_)))\n",
    "\n",
    "output_features.close()\n",
    "output_colors.close()"
   ]
  },
  {
   "cell_type": "markdown",
   "id": "52eacba8-dd16-4799-bd80-a84fbb046aca",
   "metadata": {},
   "source": [
    "**Thêm header cho file features**"
   ]
  },
  {
   "cell_type": "code",
   "execution_count": 9,
   "id": "c0246b63-65c3-4b67-8867-a5e89d2155da",
   "metadata": {},
   "outputs": [],
   "source": [
    "df = pd.read_csv('features.csv', header=None)\n",
    "col_num = len(df.columns)\n",
    "header = ['category', 'id']\n",
    "\n",
    "for i in range(col_num - 2):\n",
    "    header.append('x' + str(i))\n",
    "\n",
    "df.to_csv('features.csv', header=header, index=False)\n",
    "\n"
   ]
  },
  {
   "cell_type": "markdown",
   "id": "b16dfc7b-b2e1-4dbc-ac23-2fde52f51cdc",
   "metadata": {},
   "source": [
    "**Lọc dữ liệu cho các features, mã hóa cho tập label**"
   ]
  },
  {
   "cell_type": "code",
   "execution_count": 10,
   "id": "21a125f1-0c2c-4ecd-b5a4-87a6cb82cb39",
   "metadata": {},
   "outputs": [
    {
     "data": {
      "text/html": [
       "<div>\n",
       "<style scoped>\n",
       "    .dataframe tbody tr th:only-of-type {\n",
       "        vertical-align: middle;\n",
       "    }\n",
       "\n",
       "    .dataframe tbody tr th {\n",
       "        vertical-align: top;\n",
       "    }\n",
       "\n",
       "    .dataframe thead th {\n",
       "        text-align: right;\n",
       "    }\n",
       "</style>\n",
       "<table border=\"1\" class=\"dataframe\">\n",
       "  <thead>\n",
       "    <tr style=\"text-align: right;\">\n",
       "      <th></th>\n",
       "      <th>category</th>\n",
       "      <th>id</th>\n",
       "      <th>x0</th>\n",
       "      <th>x1</th>\n",
       "      <th>x2</th>\n",
       "      <th>x3</th>\n",
       "      <th>x4</th>\n",
       "      <th>x5</th>\n",
       "      <th>x6</th>\n",
       "      <th>x7</th>\n",
       "      <th>...</th>\n",
       "      <th>x3771</th>\n",
       "      <th>x3772</th>\n",
       "      <th>x3773</th>\n",
       "      <th>x3774</th>\n",
       "      <th>x3775</th>\n",
       "      <th>x3776</th>\n",
       "      <th>x3777</th>\n",
       "      <th>x3778</th>\n",
       "      <th>x3779</th>\n",
       "      <th>category_encode</th>\n",
       "    </tr>\n",
       "  </thead>\n",
       "  <tbody>\n",
       "    <tr>\n",
       "      <th>0</th>\n",
       "      <td>accordion</td>\n",
       "      <td>accordion_image_0001</td>\n",
       "      <td>0.0</td>\n",
       "      <td>0.0</td>\n",
       "      <td>0.0</td>\n",
       "      <td>0.0</td>\n",
       "      <td>0.000000</td>\n",
       "      <td>0.0</td>\n",
       "      <td>0.000000</td>\n",
       "      <td>0.0</td>\n",
       "      <td>...</td>\n",
       "      <td>0.000000</td>\n",
       "      <td>0.0</td>\n",
       "      <td>0.0</td>\n",
       "      <td>0.0</td>\n",
       "      <td>0.0</td>\n",
       "      <td>0.0</td>\n",
       "      <td>0.0</td>\n",
       "      <td>0.0</td>\n",
       "      <td>0.0</td>\n",
       "      <td>4</td>\n",
       "    </tr>\n",
       "    <tr>\n",
       "      <th>1</th>\n",
       "      <td>accordion</td>\n",
       "      <td>accordion_image_0002</td>\n",
       "      <td>0.0</td>\n",
       "      <td>0.0</td>\n",
       "      <td>0.0</td>\n",
       "      <td>0.0</td>\n",
       "      <td>0.002111</td>\n",
       "      <td>0.0</td>\n",
       "      <td>0.002986</td>\n",
       "      <td>0.0</td>\n",
       "      <td>...</td>\n",
       "      <td>0.002131</td>\n",
       "      <td>0.0</td>\n",
       "      <td>0.0</td>\n",
       "      <td>0.0</td>\n",
       "      <td>0.0</td>\n",
       "      <td>0.0</td>\n",
       "      <td>0.0</td>\n",
       "      <td>0.0</td>\n",
       "      <td>0.0</td>\n",
       "      <td>4</td>\n",
       "    </tr>\n",
       "    <tr>\n",
       "      <th>2</th>\n",
       "      <td>accordion</td>\n",
       "      <td>accordion_image_0003</td>\n",
       "      <td>0.0</td>\n",
       "      <td>0.0</td>\n",
       "      <td>0.0</td>\n",
       "      <td>0.0</td>\n",
       "      <td>0.000000</td>\n",
       "      <td>0.0</td>\n",
       "      <td>0.000000</td>\n",
       "      <td>0.0</td>\n",
       "      <td>...</td>\n",
       "      <td>0.000000</td>\n",
       "      <td>0.0</td>\n",
       "      <td>0.0</td>\n",
       "      <td>0.0</td>\n",
       "      <td>0.0</td>\n",
       "      <td>0.0</td>\n",
       "      <td>0.0</td>\n",
       "      <td>0.0</td>\n",
       "      <td>0.0</td>\n",
       "      <td>4</td>\n",
       "    </tr>\n",
       "    <tr>\n",
       "      <th>3</th>\n",
       "      <td>accordion</td>\n",
       "      <td>accordion_image_0004</td>\n",
       "      <td>0.0</td>\n",
       "      <td>0.0</td>\n",
       "      <td>0.0</td>\n",
       "      <td>0.0</td>\n",
       "      <td>0.000000</td>\n",
       "      <td>0.0</td>\n",
       "      <td>0.000000</td>\n",
       "      <td>0.0</td>\n",
       "      <td>...</td>\n",
       "      <td>0.000000</td>\n",
       "      <td>0.0</td>\n",
       "      <td>0.0</td>\n",
       "      <td>0.0</td>\n",
       "      <td>0.0</td>\n",
       "      <td>0.0</td>\n",
       "      <td>0.0</td>\n",
       "      <td>0.0</td>\n",
       "      <td>0.0</td>\n",
       "      <td>4</td>\n",
       "    </tr>\n",
       "    <tr>\n",
       "      <th>4</th>\n",
       "      <td>accordion</td>\n",
       "      <td>accordion_image_0005</td>\n",
       "      <td>0.0</td>\n",
       "      <td>0.0</td>\n",
       "      <td>0.0</td>\n",
       "      <td>0.0</td>\n",
       "      <td>0.000000</td>\n",
       "      <td>0.0</td>\n",
       "      <td>0.000000</td>\n",
       "      <td>0.0</td>\n",
       "      <td>...</td>\n",
       "      <td>0.000000</td>\n",
       "      <td>0.0</td>\n",
       "      <td>0.0</td>\n",
       "      <td>0.0</td>\n",
       "      <td>0.0</td>\n",
       "      <td>0.0</td>\n",
       "      <td>0.0</td>\n",
       "      <td>0.0</td>\n",
       "      <td>0.0</td>\n",
       "      <td>4</td>\n",
       "    </tr>\n",
       "  </tbody>\n",
       "</table>\n",
       "<p>5 rows × 3783 columns</p>\n",
       "</div>"
      ],
      "text/plain": [
       "    category                     id   x0   x1   x2   x3        x4   x5  \\\n",
       "0  accordion   accordion_image_0001  0.0  0.0  0.0  0.0  0.000000  0.0   \n",
       "1  accordion   accordion_image_0002  0.0  0.0  0.0  0.0  0.002111  0.0   \n",
       "2  accordion   accordion_image_0003  0.0  0.0  0.0  0.0  0.000000  0.0   \n",
       "3  accordion   accordion_image_0004  0.0  0.0  0.0  0.0  0.000000  0.0   \n",
       "4  accordion   accordion_image_0005  0.0  0.0  0.0  0.0  0.000000  0.0   \n",
       "\n",
       "         x6   x7  ...     x3771  x3772  x3773  x3774  x3775  x3776  x3777  \\\n",
       "0  0.000000  0.0  ...  0.000000    0.0    0.0    0.0    0.0    0.0    0.0   \n",
       "1  0.002986  0.0  ...  0.002131    0.0    0.0    0.0    0.0    0.0    0.0   \n",
       "2  0.000000  0.0  ...  0.000000    0.0    0.0    0.0    0.0    0.0    0.0   \n",
       "3  0.000000  0.0  ...  0.000000    0.0    0.0    0.0    0.0    0.0    0.0   \n",
       "4  0.000000  0.0  ...  0.000000    0.0    0.0    0.0    0.0    0.0    0.0   \n",
       "\n",
       "   x3778  x3779  category_encode  \n",
       "0    0.0    0.0                4  \n",
       "1    0.0    0.0                4  \n",
       "2    0.0    0.0                4  \n",
       "3    0.0    0.0                4  \n",
       "4    0.0    0.0                4  \n",
       "\n",
       "[5 rows x 3783 columns]"
      ]
     },
     "execution_count": 10,
     "metadata": {},
     "output_type": "execute_result"
    }
   ],
   "source": [
    "df = pd.read_csv('features.csv')\n",
    "\n",
    "from sklearn.preprocessing import LabelEncoder\n",
    "lab = LabelEncoder()\n",
    "\n",
    "df['category_encode'] = lab.fit_transform(df['category'])\n",
    "df = df.dropna()\n",
    "df.head()"
   ]
  },
  {
   "cell_type": "markdown",
   "id": "3795f090-1b02-4c4a-9f48-e118a4948606",
   "metadata": {},
   "source": [
    "**Tạo tập ánh xạ giữa label dạng chữ và dạng số**"
   ]
  },
  {
   "cell_type": "code",
   "execution_count": 11,
   "id": "cb4d8c6a-ce46-4b3a-bfab-3890428f3bcf",
   "metadata": {},
   "outputs": [
    {
     "data": {
      "text/html": [
       "<div>\n",
       "<style scoped>\n",
       "    .dataframe tbody tr th:only-of-type {\n",
       "        vertical-align: middle;\n",
       "    }\n",
       "\n",
       "    .dataframe tbody tr th {\n",
       "        vertical-align: top;\n",
       "    }\n",
       "\n",
       "    .dataframe thead th {\n",
       "        text-align: right;\n",
       "    }\n",
       "</style>\n",
       "<table border=\"1\" class=\"dataframe\">\n",
       "  <thead>\n",
       "    <tr style=\"text-align: right;\">\n",
       "      <th></th>\n",
       "      <th>category</th>\n",
       "      <th>category_encode</th>\n",
       "    </tr>\n",
       "  </thead>\n",
       "  <tbody>\n",
       "    <tr>\n",
       "      <th>0</th>\n",
       "      <td>accordion</td>\n",
       "      <td>4</td>\n",
       "    </tr>\n",
       "    <tr>\n",
       "      <th>1</th>\n",
       "      <td>airplanes</td>\n",
       "      <td>5</td>\n",
       "    </tr>\n",
       "    <tr>\n",
       "      <th>2</th>\n",
       "      <td>anchor</td>\n",
       "      <td>6</td>\n",
       "    </tr>\n",
       "    <tr>\n",
       "      <th>3</th>\n",
       "      <td>ant</td>\n",
       "      <td>7</td>\n",
       "    </tr>\n",
       "    <tr>\n",
       "      <th>4</th>\n",
       "      <td>barrel</td>\n",
       "      <td>8</td>\n",
       "    </tr>\n",
       "    <tr>\n",
       "      <th>5</th>\n",
       "      <td>bass</td>\n",
       "      <td>9</td>\n",
       "    </tr>\n",
       "    <tr>\n",
       "      <th>6</th>\n",
       "      <td>beaver</td>\n",
       "      <td>10</td>\n",
       "    </tr>\n",
       "    <tr>\n",
       "      <th>7</th>\n",
       "      <td>binocular</td>\n",
       "      <td>11</td>\n",
       "    </tr>\n",
       "    <tr>\n",
       "      <th>8</th>\n",
       "      <td>bonsai</td>\n",
       "      <td>12</td>\n",
       "    </tr>\n",
       "    <tr>\n",
       "      <th>9</th>\n",
       "      <td>brain</td>\n",
       "      <td>13</td>\n",
       "    </tr>\n",
       "  </tbody>\n",
       "</table>\n",
       "</div>"
      ],
      "text/plain": [
       "    category  category_encode\n",
       "0  accordion                4\n",
       "1  airplanes                5\n",
       "2     anchor                6\n",
       "3        ant                7\n",
       "4     barrel                8\n",
       "5       bass                9\n",
       "6     beaver               10\n",
       "7  binocular               11\n",
       "8     bonsai               12\n",
       "9      brain               13"
      ]
     },
     "execution_count": 11,
     "metadata": {},
     "output_type": "execute_result"
    }
   ],
   "source": [
    "mapping = pd.DataFrame()\n",
    "mapping['category'] = df['category']\n",
    "mapping['category_encode'] = df['category_encode']\n",
    "mapping = mapping.loc[~mapping.category.duplicated(keep='first')]\n",
    "mapping.reset_index(drop=True, inplace=True)\n",
    "mapping.head(10)"
   ]
  },
  {
   "cell_type": "markdown",
   "id": "4b1b7cb7-fa7c-44b6-a934-8a88dafb5687",
   "metadata": {},
   "source": [
    "**Xác định tập input cho mô hình học máy**"
   ]
  },
  {
   "cell_type": "code",
   "execution_count": 12,
   "id": "f81c8540-624d-44d2-97db-8cd3e5e0802a",
   "metadata": {},
   "outputs": [
    {
     "data": {
      "text/html": [
       "<div>\n",
       "<style scoped>\n",
       "    .dataframe tbody tr th:only-of-type {\n",
       "        vertical-align: middle;\n",
       "    }\n",
       "\n",
       "    .dataframe tbody tr th {\n",
       "        vertical-align: top;\n",
       "    }\n",
       "\n",
       "    .dataframe thead th {\n",
       "        text-align: right;\n",
       "    }\n",
       "</style>\n",
       "<table border=\"1\" class=\"dataframe\">\n",
       "  <thead>\n",
       "    <tr style=\"text-align: right;\">\n",
       "      <th></th>\n",
       "      <th>x0</th>\n",
       "      <th>x1</th>\n",
       "      <th>x2</th>\n",
       "      <th>x3</th>\n",
       "      <th>x4</th>\n",
       "      <th>x5</th>\n",
       "      <th>x6</th>\n",
       "      <th>x7</th>\n",
       "      <th>x8</th>\n",
       "      <th>x9</th>\n",
       "      <th>...</th>\n",
       "      <th>x3770</th>\n",
       "      <th>x3771</th>\n",
       "      <th>x3772</th>\n",
       "      <th>x3773</th>\n",
       "      <th>x3774</th>\n",
       "      <th>x3775</th>\n",
       "      <th>x3776</th>\n",
       "      <th>x3777</th>\n",
       "      <th>x3778</th>\n",
       "      <th>x3779</th>\n",
       "    </tr>\n",
       "  </thead>\n",
       "  <tbody>\n",
       "    <tr>\n",
       "      <th>0</th>\n",
       "      <td>0.0</td>\n",
       "      <td>0.0</td>\n",
       "      <td>0.0</td>\n",
       "      <td>0.0</td>\n",
       "      <td>0.000000</td>\n",
       "      <td>0.0</td>\n",
       "      <td>0.000000</td>\n",
       "      <td>0.0</td>\n",
       "      <td>0.000000</td>\n",
       "      <td>0.001014</td>\n",
       "      <td>...</td>\n",
       "      <td>0.003536</td>\n",
       "      <td>0.000000</td>\n",
       "      <td>0.0</td>\n",
       "      <td>0.0</td>\n",
       "      <td>0.0</td>\n",
       "      <td>0.0</td>\n",
       "      <td>0.0</td>\n",
       "      <td>0.0</td>\n",
       "      <td>0.0</td>\n",
       "      <td>0.0</td>\n",
       "    </tr>\n",
       "    <tr>\n",
       "      <th>1</th>\n",
       "      <td>0.0</td>\n",
       "      <td>0.0</td>\n",
       "      <td>0.0</td>\n",
       "      <td>0.0</td>\n",
       "      <td>0.002111</td>\n",
       "      <td>0.0</td>\n",
       "      <td>0.002986</td>\n",
       "      <td>0.0</td>\n",
       "      <td>0.002111</td>\n",
       "      <td>0.040647</td>\n",
       "      <td>...</td>\n",
       "      <td>0.035209</td>\n",
       "      <td>0.002131</td>\n",
       "      <td>0.0</td>\n",
       "      <td>0.0</td>\n",
       "      <td>0.0</td>\n",
       "      <td>0.0</td>\n",
       "      <td>0.0</td>\n",
       "      <td>0.0</td>\n",
       "      <td>0.0</td>\n",
       "      <td>0.0</td>\n",
       "    </tr>\n",
       "    <tr>\n",
       "      <th>2</th>\n",
       "      <td>0.0</td>\n",
       "      <td>0.0</td>\n",
       "      <td>0.0</td>\n",
       "      <td>0.0</td>\n",
       "      <td>0.000000</td>\n",
       "      <td>0.0</td>\n",
       "      <td>0.000000</td>\n",
       "      <td>0.0</td>\n",
       "      <td>0.000000</td>\n",
       "      <td>0.000000</td>\n",
       "      <td>...</td>\n",
       "      <td>0.000949</td>\n",
       "      <td>0.000000</td>\n",
       "      <td>0.0</td>\n",
       "      <td>0.0</td>\n",
       "      <td>0.0</td>\n",
       "      <td>0.0</td>\n",
       "      <td>0.0</td>\n",
       "      <td>0.0</td>\n",
       "      <td>0.0</td>\n",
       "      <td>0.0</td>\n",
       "    </tr>\n",
       "    <tr>\n",
       "      <th>3</th>\n",
       "      <td>0.0</td>\n",
       "      <td>0.0</td>\n",
       "      <td>0.0</td>\n",
       "      <td>0.0</td>\n",
       "      <td>0.000000</td>\n",
       "      <td>0.0</td>\n",
       "      <td>0.000000</td>\n",
       "      <td>0.0</td>\n",
       "      <td>0.000000</td>\n",
       "      <td>0.000000</td>\n",
       "      <td>...</td>\n",
       "      <td>0.000000</td>\n",
       "      <td>0.000000</td>\n",
       "      <td>0.0</td>\n",
       "      <td>0.0</td>\n",
       "      <td>0.0</td>\n",
       "      <td>0.0</td>\n",
       "      <td>0.0</td>\n",
       "      <td>0.0</td>\n",
       "      <td>0.0</td>\n",
       "      <td>0.0</td>\n",
       "    </tr>\n",
       "    <tr>\n",
       "      <th>4</th>\n",
       "      <td>0.0</td>\n",
       "      <td>0.0</td>\n",
       "      <td>0.0</td>\n",
       "      <td>0.0</td>\n",
       "      <td>0.000000</td>\n",
       "      <td>0.0</td>\n",
       "      <td>0.000000</td>\n",
       "      <td>0.0</td>\n",
       "      <td>0.000000</td>\n",
       "      <td>0.219705</td>\n",
       "      <td>...</td>\n",
       "      <td>0.076772</td>\n",
       "      <td>0.000000</td>\n",
       "      <td>0.0</td>\n",
       "      <td>0.0</td>\n",
       "      <td>0.0</td>\n",
       "      <td>0.0</td>\n",
       "      <td>0.0</td>\n",
       "      <td>0.0</td>\n",
       "      <td>0.0</td>\n",
       "      <td>0.0</td>\n",
       "    </tr>\n",
       "  </tbody>\n",
       "</table>\n",
       "<p>5 rows × 3780 columns</p>\n",
       "</div>"
      ],
      "text/plain": [
       "    x0   x1   x2   x3        x4   x5        x6   x7        x8        x9  ...  \\\n",
       "0  0.0  0.0  0.0  0.0  0.000000  0.0  0.000000  0.0  0.000000  0.001014  ...   \n",
       "1  0.0  0.0  0.0  0.0  0.002111  0.0  0.002986  0.0  0.002111  0.040647  ...   \n",
       "2  0.0  0.0  0.0  0.0  0.000000  0.0  0.000000  0.0  0.000000  0.000000  ...   \n",
       "3  0.0  0.0  0.0  0.0  0.000000  0.0  0.000000  0.0  0.000000  0.000000  ...   \n",
       "4  0.0  0.0  0.0  0.0  0.000000  0.0  0.000000  0.0  0.000000  0.219705  ...   \n",
       "\n",
       "      x3770     x3771  x3772  x3773  x3774  x3775  x3776  x3777  x3778  x3779  \n",
       "0  0.003536  0.000000    0.0    0.0    0.0    0.0    0.0    0.0    0.0    0.0  \n",
       "1  0.035209  0.002131    0.0    0.0    0.0    0.0    0.0    0.0    0.0    0.0  \n",
       "2  0.000949  0.000000    0.0    0.0    0.0    0.0    0.0    0.0    0.0    0.0  \n",
       "3  0.000000  0.000000    0.0    0.0    0.0    0.0    0.0    0.0    0.0    0.0  \n",
       "4  0.076772  0.000000    0.0    0.0    0.0    0.0    0.0    0.0    0.0    0.0  \n",
       "\n",
       "[5 rows x 3780 columns]"
      ]
     },
     "execution_count": 12,
     "metadata": {},
     "output_type": "execute_result"
    }
   ],
   "source": [
    "input = df.drop(['category', 'category_encode', 'id'], axis='columns')\n",
    "input.head()\n"
   ]
  },
  {
   "cell_type": "markdown",
   "id": "c656eacc-94b6-4a0d-9fba-9e2100fbeb2b",
   "metadata": {},
   "source": [
    "**Xác định tập label cho mô hình học máy**"
   ]
  },
  {
   "cell_type": "code",
   "execution_count": 13,
   "id": "9a415192-1a6c-4936-b917-fa3258f68036",
   "metadata": {},
   "outputs": [
    {
     "data": {
      "text/plain": [
       "0    4\n",
       "1    4\n",
       "2    4\n",
       "3    4\n",
       "4    4\n",
       "Name: category_encode, dtype: int32"
      ]
     },
     "execution_count": 13,
     "metadata": {},
     "output_type": "execute_result"
    }
   ],
   "source": [
    "target = df['category_encode']\n",
    "target.head()"
   ]
  },
  {
   "cell_type": "markdown",
   "id": "d12726c9-371b-451f-b2f7-1f9640d72a70",
   "metadata": {},
   "source": [
    "**Chia tập train, test cho mô hình học máy**"
   ]
  },
  {
   "cell_type": "code",
   "execution_count": 14,
   "id": "f3353837-bfaa-4a55-9e72-37cdc789a02c",
   "metadata": {},
   "outputs": [],
   "source": [
    "from sklearn.model_selection import train_test_split\n",
    "\n",
    "xtrain, xtest, ytrain, ytest = train_test_split(input, target, test_size=0.3)"
   ]
  },
  {
   "cell_type": "markdown",
   "id": "fb3f76bc-d180-45e9-b9f9-192ea38a7839",
   "metadata": {},
   "source": [
    "**Training**"
   ]
  },
  {
   "cell_type": "code",
   "execution_count": 15,
   "id": "96527359-c9a3-4743-852f-279a0d7bd33a",
   "metadata": {},
   "outputs": [
    {
     "data": {
      "text/plain": [
       "['new_model']"
      ]
     },
     "execution_count": 15,
     "metadata": {},
     "output_type": "execute_result"
    }
   ],
   "source": [
    "from sklearn.svm import SVC\n",
    "model = SVC(kernel='linear', C=100)\n",
    "model.fit(xtrain, ytrain)\n",
    "\n",
    "import joblib\n",
    "joblib.dump(model, \"new_model\")\n",
    "\n",
    "# from sklearn.model_selection import GridSearchCV\n",
    "\n",
    "# parameter_candidates = [\n",
    "#   {'C': [0.001, 0.01, 0.1, 1, 5, 10, 100, 1000], 'kernel': ['linear']},\n",
    "# ]\n",
    "\n",
    "# clf = GridSearchCV(estimator=SVC(), param_grid=parameter_candidates, n_jobs=-1)\n",
    "# clf.fit(xtrain, ytrain)\n",
    "# print('Best score:', clf.best_score_)\n",
    "# print('Best C:',clf.best_estimator_.C)\n"
   ]
  },
  {
   "cell_type": "markdown",
   "id": "99b202ac-c116-4d71-9459-6aa043314175",
   "metadata": {},
   "source": [
    "**Kiểm tra độ chính xác**"
   ]
  },
  {
   "cell_type": "code",
   "execution_count": 16,
   "id": "4c92fa3c-ccdd-4f91-a041-7eab6ba35aae",
   "metadata": {},
   "outputs": [
    {
     "data": {
      "text/plain": [
       "0.6582181259600615"
      ]
     },
     "execution_count": 16,
     "metadata": {},
     "output_type": "execute_result"
    }
   ],
   "source": [
    "import joblib\n",
    "model = joblib.load('new_model')\n",
    "score = model.score(xtest, ytest )\n",
    "score\n"
   ]
  },
  {
   "cell_type": "code",
   "execution_count": 17,
   "id": "bd1b0ec4-d986-4e50-b6de-7024bdba4e18",
   "metadata": {},
   "outputs": [
    {
     "data": {
      "text/plain": [
       "array([[123,   1,   0, ...,   0,   0,   0],\n",
       "       [  3, 131,   0, ...,   0,   0,   0],\n",
       "       [  0,   0,  64, ...,   0,   0,   0],\n",
       "       ...,\n",
       "       [  0,   0,   0, ...,  17,   0,   0],\n",
       "       [  0,   0,   0, ...,   0,   9,   0],\n",
       "       [  0,   0,   1, ...,   0,   0,  11]], dtype=int64)"
      ]
     },
     "execution_count": 17,
     "metadata": {},
     "output_type": "execute_result"
    }
   ],
   "source": [
    "y_predict = model.predict(xtest)\n",
    "# Ma trận lỗi\n",
    "from sklearn.metrics import confusion_matrix\n",
    "confusion_matrix(ytest, y_predict)\n"
   ]
  },
  {
   "cell_type": "code",
   "execution_count": 18,
   "id": "34c3bfe7-2562-4008-86cb-f90e6dd7ff4b",
   "metadata": {},
   "outputs": [
    {
     "data": {
      "text/plain": [
       "0.6582181259600615"
      ]
     },
     "execution_count": 18,
     "metadata": {},
     "output_type": "execute_result"
    }
   ],
   "source": [
    "from sklearn.metrics import accuracy_score\n",
    "accuracy_score(ytest, y_predict)\n",
    "\n"
   ]
  },
  {
   "cell_type": "code",
   "execution_count": 25,
   "id": "040afae4-d9bc-4db1-8189-23ebbdbd72bc",
   "metadata": {},
   "outputs": [],
   "source": [
    "import matplotlib.pyplot as plt\n"
   ]
  },
  {
   "cell_type": "code",
   "execution_count": 27,
   "id": "6759ffda-35eb-4793-a6b0-b2674d87b14a",
   "metadata": {},
   "outputs": [
    {
     "data": {
      "text/plain": [
       "[<matplotlib.lines.Line2D at 0x2110f406200>]"
      ]
     },
     "execution_count": 27,
     "metadata": {},
     "output_type": "execute_result"
    },
    {
     "data": {
      "image/png": "[encoded data removed]",
      "text/plain": [
       "<Figure size 432x288 with 1 Axes>"
      ]
     },
     "metadata": {
      "needs_background": "light"
     },
     "output_type": "display_data"
    }
   ],
   "source": [
    "#Recall\n",
    "from sklearn.metrics import recall_score\n",
    "recallScore = recall_score(ytest, y_predict, average=None)\n",
    "plt.plot(recallScore)"
   ]
  },
  {
   "cell_type": "code",
   "execution_count": 20,
   "id": "3ffb1dad-4eda-4fcf-8309-e0573a2154c5",
   "metadata": {},
   "outputs": [],
   "source": []
  },
  {
   "cell_type": "code",
   "execution_count": 28,
   "id": "f2f64b1c-1854-4f32-b282-09931042c5f0",
   "metadata": {},
   "outputs": [
    {
     "name": "stderr",
     "output_type": "stream",
     "text": [
      "C:\\Users\\cinterface\\.conda\\envs\\cinterface\\lib\\site-packages\\sklearn\\metrics\\_classification.py:1318: UndefinedMetricWarning: Precision is ill-defined and being set to 0.0 in labels with no predicted samples. Use `zero_division` parameter to control this behavior.\n",
      "  _warn_prf(average, modifier, msg_start, len(result))\n"
     ]
    },
    {
     "data": {
      "text/plain": [
       "[<matplotlib.lines.Line2D at 0x2110f479030>]"
      ]
     },
     "execution_count": 28,
     "metadata": {},
     "output_type": "execute_result"
    },
    {
     "data": {
      "image/png": "[encoded data removed]",
      "text/plain": [
       "<Figure size 432x288 with 1 Axes>"
      ]
     },
     "metadata": {
      "needs_background": "light"
     },
     "output_type": "display_data"
    }
   ],
   "source": [
    "# Precision\n",
    "from sklearn.metrics import precision_score\n",
    "precisionScore = precision_score(ytest, y_predict, average=None)\n",
    "plt.plot(precisionScore)"
   ]
  },
  {
   "cell_type": "code",
   "execution_count": 31,
   "id": "69c295c9-ad6d-4a41-bb32-1939222198ca",
   "metadata": {},
   "outputs": [],
   "source": [
    "from sklearn.metrics import f1_score\n",
    "f1Score = f1_score(ytest, y_predict, average=None)"
   ]
  },
  {
   "cell_type": "code",
   "execution_count": 32,
   "id": "716d5566-1543-4d3a-bb56-b84ebd3dec32",
   "metadata": {},
   "outputs": [
    {
     "data": {
      "text/plain": [
       "[<matplotlib.lines.Line2D at 0x2110f4c3e80>]"
      ]
     },
     "execution_count": 32,
     "metadata": {},
     "output_type": "execute_result"
    },
    {
     "data": {
      "image/png": "[encoded data removed]",
      "text/plain": [
       "<Figure size 432x288 with 1 Axes>"
      ]
     },
     "metadata": {
      "needs_background": "light"
     },
     "output_type": "display_data"
    }
   ],
   "source": [
    "plt.plot(f1Score)\n"
   ]
  },
  {
   "cell_type": "code",
   "execution_count": 24,
   "id": "b3b20832-f2ab-4ea7-970a-ff65de6a2f1e",
   "metadata": {},
   "outputs": [
    {
     "data": {
      "text/plain": [
       "0.6582181259600615"
      ]
     },
     "execution_count": 24,
     "metadata": {},
     "output_type": "execute_result"
    }
   ],
   "source": [
    "score"
   ]
  },
  {
   "cell_type": "markdown",
   "id": "84b9cd03-3203-463d-b8c9-ee0b75d73c00",
   "metadata": {},
   "source": [
    "**Bắt đầu thực hiện truy vấn ảnh**\n",
    "**Dự đoán label cho ảnh**"
   ]
  },
  {
   "cell_type": "code",
   "execution_count": null,
   "id": "bd54b5bb-a78c-445a-8a02-1a71dc1c178f",
   "metadata": {},
   "outputs": [],
   "source": [
    "import time\n",
    "start = time.time()\n",
    "\n",
    "path_query = \"query/brain_image_0095.jpg\"\n",
    "image = cv.imread(path_query, cv.IMREAD_GRAYSCALE)\n",
    "image_ = cv.resize(image, dsize=(64, 128))\n",
    "\n",
    "\n",
    "features = describeImage(image_)\n",
    "            \n",
    "label = model.predict([features])[0]"
   ]
  },
  {
   "cell_type": "markdown",
   "id": "dbf39f87-2f7d-4044-8ffc-5c653389c580",
   "metadata": {},
   "source": [
    "**Chuyển label đã dự đoán được về dạng chữ**"
   ]
  },
  {
   "cell_type": "code",
   "execution_count": null,
   "id": "d70e8f75-fe88-43d4-836c-a8ef707f3101",
   "metadata": {},
   "outputs": [],
   "source": [
    "path = \"\"\n",
    "for index, row in mapping.iterrows():\n",
    "    if int(row['category_encode']) == label:\n",
    "        path = row['category']\n",
    "        break;\n",
    "path"
   ]
  },
  {
   "cell_type": "markdown",
   "id": "1edf8416-17d6-4b28-8ed5-8caf1ee2e9e8",
   "metadata": {},
   "source": [
    "**Thực hiện tính toán khoảng cách dữ liệu màu sắc cho ảnh truy vấn với tập ảnh trong csdl có cùng label**"
   ]
  },
  {
   "cell_type": "code",
   "execution_count": null,
   "id": "edd78658-cd6f-408f-9c4b-f23a2331e1e7",
   "metadata": {},
   "outputs": [],
   "source": [
    "image = cv.imread(path_query)\n",
    "results = search_by_color(describe_histogram(image), path)\n",
    "print(results)"
   ]
  },
  {
   "cell_type": "markdown",
   "id": "b06014f9-4b0d-4d6f-bc11-f286240dd841",
   "metadata": {},
   "source": [
    "**Trả về kết quả truy vấn: thời gian truy vấn, hình ảnh, độ chính xác**"
   ]
  },
  {
   "cell_type": "code",
   "execution_count": null,
   "id": "3dae1862-fb53-4e47-a2de-41c03d4e98e1",
   "metadata": {},
   "outputs": [],
   "source": [
    "from IPython.display import Image\n",
    "from IPython.display import display\n",
    "\n",
    "import time\n",
    "\n",
    "print(\"Ảnh truy vấn:\\n\")\n",
    "display(Image(path_query))\n",
    "print(\"\\n\\n\\n\\n\\n\")\n",
    "\n",
    "\n",
    "total_time = time.time() - start\n",
    "print(\"Thời gian tìm kiếm: \" + str(total_time));\n",
    "print(\"Tập ảnh kết quả:\\n\")\n",
    "for (score, resultID) in results:\n",
    "        location = \"101_ObjectCategories/\" + resultID.replace(\"_image\", \"/image\").strip() + \".jpg\"\n",
    "        print(\"d=: \" + str(score))\n",
    "        x = Image(filename=location)\n",
    "        display(x)\n",
    "        print(\"\\n\")\n"
   ]
  },
  {
   "cell_type": "code",
   "execution_count": null,
   "id": "61599b3f-f34c-4a08-b94c-30913ff4b984",
   "metadata": {},
   "outputs": [],
   "source": []
  },
  {
   "cell_type": "code",
   "execution_count": null,
   "id": "b06cb784-2df5-4744-9781-d15aa2929a87",
   "metadata": {},
   "outputs": [],
   "source": []
  }
 ],
 "metadata": {
  "kernelspec": {
   "display_name": "Python 3 (ipykernel)",
   "language": "python",
   "name": "python3"
  },
  "language_info": {
   "codemirror_mode": {
    "name": "ipython",
    "version": 3
   },
   "file_extension": ".py",
   "mimetype": "text/x-python",
   "name": "python",
   "nbconvert_exporter": "python",
   "pygments_lexer": "ipython3",
   "version": "3.10.1"
  }
 },
 "nbformat": 4,
 "nbformat_minor": 5
}
